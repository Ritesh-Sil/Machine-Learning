{
 "cells": [
  {
   "cell_type": "markdown",
   "id": "79cc4082",
   "metadata": {},
   "source": [
    "### Working with APIs\n",
    "\n",
    "\n",
    "Credit for all the resources : https://www.youtube.com/c/CampusX-official\n",
    "\n",
    "\n",
    "**Useful Links used :-** \n",
    "\n",
    "1. TMDB API : https://developers.themoviedb.org/ \n",
    "2. RapidAPI : https://rapidapi.com/collection/list-... \n",
    "3. JSON Viewer: http://jsonviewer.stack.hu/"
   ]
  },
  {
   "cell_type": "code",
   "execution_count": 1,
   "id": "4b433aeb",
   "metadata": {},
   "outputs": [],
   "source": [
    "import pandas as pd\n",
    "import requests # create https request using python."
   ]
  },
  {
   "cell_type": "code",
   "execution_count": null,
   "id": "68b4be1a",
   "metadata": {},
   "outputs": [],
   "source": []
  },
  {
   "cell_type": "markdown",
   "id": "bee84fbd",
   "metadata": {},
   "source": [
    "**Steps :-** \n",
    "\n",
    "1. **`requests.get('<put the url name>')`**\n",
    "2. Store the output into a ***response*** variable - **`response =requests.get('<put the url name>')`** . This variable will contain the responses like :\n",
    "    1. 200\n",
    "    2. 404 etc.\n",
    "3. Convert the response into ***JSON*** using **`response.json()`**"
   ]
  },
  {
   "cell_type": "code",
   "execution_count": null,
   "id": "1d456c14",
   "metadata": {},
   "outputs": [],
   "source": []
  }
 ],
 "metadata": {
  "kernelspec": {
   "display_name": "Python 3 (ipykernel)",
   "language": "python",
   "name": "python3"
  },
  "language_info": {
   "codemirror_mode": {
    "name": "ipython",
    "version": 3
   },
   "file_extension": ".py",
   "mimetype": "text/x-python",
   "name": "python",
   "nbconvert_exporter": "python",
   "pygments_lexer": "ipython3",
   "version": "3.9.12"
  }
 },
 "nbformat": 4,
 "nbformat_minor": 5
}
