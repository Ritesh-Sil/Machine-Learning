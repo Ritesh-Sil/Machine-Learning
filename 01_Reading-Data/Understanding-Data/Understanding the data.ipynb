{
 "cells": [
  {
   "cell_type": "markdown",
   "id": "9db9a008",
   "metadata": {},
   "source": [
    "### Understanding your data\n",
    "\n",
    "\n",
    "1. Asking basic questions\n",
    "2. EDA - Univariate analysis\n",
    "3. EDA - Multivariate analysis\n",
    "4. Automated EDA - Using Pandas profiling\n",
    "\n",
    "\n",
    "Source and credit : https://www.youtube.com/c/CampusX-official"
   ]
  },
  {
   "cell_type": "code",
   "execution_count": 1,
   "id": "52c9be0a",
   "metadata": {},
   "outputs": [],
   "source": [
    "# Use titanic dataset"
   ]
  },
  {
   "cell_type": "markdown",
   "id": "dcf2f8c1",
   "metadata": {},
   "source": [
    "#### 1. How big is the data\n",
    "\n",
    "***`df.shape`***"
   ]
  },
  {
   "cell_type": "markdown",
   "id": "3fc3ec3d",
   "metadata": {},
   "source": [
    "#### 2. How does the data look like\n",
    "\n",
    "***`df.head()`***\n",
    "\n",
    "***`df.sample()`*** :  for no bias. For example 5 random rows df.sample(5)"
   ]
  },
  {
   "cell_type": "markdown",
   "id": "50f3f43d",
   "metadata": {},
   "source": [
    "#### 3. What is the datatype of the columns\n",
    "\n",
    "***```df.info()```***\n",
    "\n",
    "- Memory could be optimized by changing the data types"
   ]
  },
  {
   "cell_type": "markdown",
   "id": "e396bf27",
   "metadata": {},
   "source": [
    "#### 4. Are there any missing values?\n",
    "\n",
    "***`df.isnull().sum()`***"
   ]
  },
  {
   "cell_type": "markdown",
   "id": "7fc9f9eb",
   "metadata": {},
   "source": [
    "#### 5. How does the data look mathematically\n",
    "\n",
    "***`df.describe()`***"
   ]
  },
  {
   "cell_type": "markdown",
   "id": "6f10a205",
   "metadata": {},
   "source": [
    "#### 6.Are there duplicate values\n",
    "\n",
    "***`df.duplicated().sum()`***"
   ]
  },
  {
   "cell_type": "markdown",
   "id": "3aeea22d",
   "metadata": {},
   "source": [
    "#### 7. How is the correlation between the columns\n",
    "\n",
    "- Its very useful to identify which column doesn't have any impact upon the target variable\n",
    "\n",
    "***`df.corr()[<Column Name>]`***\n",
    "\n",
    "- This give the **Pearson's Correlation coefficient**"
   ]
  },
  {
   "cell_type": "code",
   "execution_count": null,
   "id": "01fa5377",
   "metadata": {},
   "outputs": [],
   "source": []
  }
 ],
 "metadata": {
  "kernelspec": {
   "display_name": "Python 3 (ipykernel)",
   "language": "python",
   "name": "python3"
  },
  "language_info": {
   "codemirror_mode": {
    "name": "ipython",
    "version": 3
   },
   "file_extension": ".py",
   "mimetype": "text/x-python",
   "name": "python",
   "nbconvert_exporter": "python",
   "pygments_lexer": "ipython3",
   "version": "3.9.12"
  }
 },
 "nbformat": 4,
 "nbformat_minor": 5
}
