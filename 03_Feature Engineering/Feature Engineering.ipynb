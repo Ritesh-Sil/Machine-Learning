{
 "cells": [
  {
   "cell_type": "markdown",
   "id": "5b772acc",
   "metadata": {},
   "source": [
    "- **Feature Engineering**\n",
    "    1. Feature transformation : *Tranforming each  an existing field to an appropriate neumeric field so that sklearn can understand*\n",
    "        1. Missing value imputation\n",
    "        2. Handling categorical features\n",
    "        3. Outlier detection\n",
    "        4. Feature Scaling\n",
    "        \n",
    "    2. Feature construction : *Creating new field, which could be inevitable for better performance of a model : Domain Knowledge, Intuition, experience*\n",
    "        - e.g - Titanic Dataset :  parch+sibsp = Family  -> Alone, Small , Large.\n",
    "        \n",
    "    3. Feature selection : *Not giving all the columns to algo, but effective columns*\n",
    "        - e.g - MNIST\n",
    "        \n",
    "    4. Feature extraction : *Creating new features from the existing feature programmatically*\n",
    "        - PCA\n",
    "        - LDA\n",
    "        - t-SNE\n",
    "        \n",
    "        - e.g -  `Room | WashRoom | Price`\n",
    "        \n",
    "        - It is different from feature construction "
   ]
  },
  {
   "cell_type": "code",
   "execution_count": null,
   "id": "8ea49108",
   "metadata": {},
   "outputs": [],
   "source": []
  }
 ],
 "metadata": {
  "kernelspec": {
   "display_name": "Python 3 (ipykernel)",
   "language": "python",
   "name": "python3"
  },
  "language_info": {
   "codemirror_mode": {
    "name": "ipython",
    "version": 3
   },
   "file_extension": ".py",
   "mimetype": "text/x-python",
   "name": "python",
   "nbconvert_exporter": "python",
   "pygments_lexer": "ipython3",
   "version": "3.9.12"
  }
 },
 "nbformat": 4,
 "nbformat_minor": 5
}
