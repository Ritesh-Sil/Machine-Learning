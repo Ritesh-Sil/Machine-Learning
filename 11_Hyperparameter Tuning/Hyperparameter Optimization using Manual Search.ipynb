{
 "cells": [
  {
   "cell_type": "markdown",
   "id": "da6c85a8",
   "metadata": {},
   "source": [
    "# Hyperparameter Optimization : Cross Validation with Manual search\n",
    "\n",
    "1. A very small project with an intension to learn about Kfold cross validation and the hyperparameter tuning with manual search.\n",
    "\n",
    "2. In this project the breast Cancer dataset is used.\n",
    "\n",
    "3. This is a classification dataset and the Classification Algorithm used is Logistic Regression\n",
    "\n",
    "4. Acknowledgement and reference :\n",
    "\n",
    "I am really thankful to have the resources created by Soledad Galli\n",
    "\n",
    "       -- https://www.udemy.com/course/hyperparameter-optimization-for-machine-learning/\n",
    "       -- https://github.com/solegalli/hyperparameter-optimization"
   ]
  },
  {
   "cell_type": "markdown",
   "id": "e00dedaa",
   "metadata": {},
   "source": [
    "# Importing libraries"
   ]
  },
  {
   "cell_type": "code",
   "execution_count": 36,
   "id": "eb30407d",
   "metadata": {},
   "outputs": [],
   "source": [
    "import numpy as np\n",
    "import pandas as pd\n",
    "import matplotlib.pyplot as plt\n",
    "import seaborn as sns\n",
    "%matplotlib inline\n",
    "\n",
    "from sklearn.model_selection import train_test_split\n",
    "from sklearn.linear_model import LogisticRegression\n",
    "from sklearn.metrics import accuracy_score,f1_score\n",
    "from sklearn.model_selection import KFold,cross_validate\n",
    "from sklearn.datasets import load_breast_cancer"
   ]
  },
  {
   "cell_type": "code",
   "execution_count": 10,
   "id": "4a7fe1de",
   "metadata": {},
   "outputs": [
    {
     "data": {
      "text/html": [
       "<div>\n",
       "<style scoped>\n",
       "    .dataframe tbody tr th:only-of-type {\n",
       "        vertical-align: middle;\n",
       "    }\n",
       "\n",
       "    .dataframe tbody tr th {\n",
       "        vertical-align: top;\n",
       "    }\n",
       "\n",
       "    .dataframe thead th {\n",
       "        text-align: right;\n",
       "    }\n",
       "</style>\n",
       "<table border=\"1\" class=\"dataframe\">\n",
       "  <thead>\n",
       "    <tr style=\"text-align: right;\">\n",
       "      <th></th>\n",
       "      <th>0</th>\n",
       "      <th>1</th>\n",
       "      <th>2</th>\n",
       "      <th>3</th>\n",
       "      <th>4</th>\n",
       "      <th>5</th>\n",
       "      <th>6</th>\n",
       "      <th>7</th>\n",
       "      <th>8</th>\n",
       "      <th>9</th>\n",
       "      <th>...</th>\n",
       "      <th>20</th>\n",
       "      <th>21</th>\n",
       "      <th>22</th>\n",
       "      <th>23</th>\n",
       "      <th>24</th>\n",
       "      <th>25</th>\n",
       "      <th>26</th>\n",
       "      <th>27</th>\n",
       "      <th>28</th>\n",
       "      <th>29</th>\n",
       "    </tr>\n",
       "  </thead>\n",
       "  <tbody>\n",
       "    <tr>\n",
       "      <th>0</th>\n",
       "      <td>17.99</td>\n",
       "      <td>10.38</td>\n",
       "      <td>122.80</td>\n",
       "      <td>1001.0</td>\n",
       "      <td>0.11840</td>\n",
       "      <td>0.27760</td>\n",
       "      <td>0.3001</td>\n",
       "      <td>0.14710</td>\n",
       "      <td>0.2419</td>\n",
       "      <td>0.07871</td>\n",
       "      <td>...</td>\n",
       "      <td>25.38</td>\n",
       "      <td>17.33</td>\n",
       "      <td>184.60</td>\n",
       "      <td>2019.0</td>\n",
       "      <td>0.1622</td>\n",
       "      <td>0.6656</td>\n",
       "      <td>0.7119</td>\n",
       "      <td>0.2654</td>\n",
       "      <td>0.4601</td>\n",
       "      <td>0.11890</td>\n",
       "    </tr>\n",
       "    <tr>\n",
       "      <th>1</th>\n",
       "      <td>20.57</td>\n",
       "      <td>17.77</td>\n",
       "      <td>132.90</td>\n",
       "      <td>1326.0</td>\n",
       "      <td>0.08474</td>\n",
       "      <td>0.07864</td>\n",
       "      <td>0.0869</td>\n",
       "      <td>0.07017</td>\n",
       "      <td>0.1812</td>\n",
       "      <td>0.05667</td>\n",
       "      <td>...</td>\n",
       "      <td>24.99</td>\n",
       "      <td>23.41</td>\n",
       "      <td>158.80</td>\n",
       "      <td>1956.0</td>\n",
       "      <td>0.1238</td>\n",
       "      <td>0.1866</td>\n",
       "      <td>0.2416</td>\n",
       "      <td>0.1860</td>\n",
       "      <td>0.2750</td>\n",
       "      <td>0.08902</td>\n",
       "    </tr>\n",
       "    <tr>\n",
       "      <th>2</th>\n",
       "      <td>19.69</td>\n",
       "      <td>21.25</td>\n",
       "      <td>130.00</td>\n",
       "      <td>1203.0</td>\n",
       "      <td>0.10960</td>\n",
       "      <td>0.15990</td>\n",
       "      <td>0.1974</td>\n",
       "      <td>0.12790</td>\n",
       "      <td>0.2069</td>\n",
       "      <td>0.05999</td>\n",
       "      <td>...</td>\n",
       "      <td>23.57</td>\n",
       "      <td>25.53</td>\n",
       "      <td>152.50</td>\n",
       "      <td>1709.0</td>\n",
       "      <td>0.1444</td>\n",
       "      <td>0.4245</td>\n",
       "      <td>0.4504</td>\n",
       "      <td>0.2430</td>\n",
       "      <td>0.3613</td>\n",
       "      <td>0.08758</td>\n",
       "    </tr>\n",
       "    <tr>\n",
       "      <th>3</th>\n",
       "      <td>11.42</td>\n",
       "      <td>20.38</td>\n",
       "      <td>77.58</td>\n",
       "      <td>386.1</td>\n",
       "      <td>0.14250</td>\n",
       "      <td>0.28390</td>\n",
       "      <td>0.2414</td>\n",
       "      <td>0.10520</td>\n",
       "      <td>0.2597</td>\n",
       "      <td>0.09744</td>\n",
       "      <td>...</td>\n",
       "      <td>14.91</td>\n",
       "      <td>26.50</td>\n",
       "      <td>98.87</td>\n",
       "      <td>567.7</td>\n",
       "      <td>0.2098</td>\n",
       "      <td>0.8663</td>\n",
       "      <td>0.6869</td>\n",
       "      <td>0.2575</td>\n",
       "      <td>0.6638</td>\n",
       "      <td>0.17300</td>\n",
       "    </tr>\n",
       "    <tr>\n",
       "      <th>4</th>\n",
       "      <td>20.29</td>\n",
       "      <td>14.34</td>\n",
       "      <td>135.10</td>\n",
       "      <td>1297.0</td>\n",
       "      <td>0.10030</td>\n",
       "      <td>0.13280</td>\n",
       "      <td>0.1980</td>\n",
       "      <td>0.10430</td>\n",
       "      <td>0.1809</td>\n",
       "      <td>0.05883</td>\n",
       "      <td>...</td>\n",
       "      <td>22.54</td>\n",
       "      <td>16.67</td>\n",
       "      <td>152.20</td>\n",
       "      <td>1575.0</td>\n",
       "      <td>0.1374</td>\n",
       "      <td>0.2050</td>\n",
       "      <td>0.4000</td>\n",
       "      <td>0.1625</td>\n",
       "      <td>0.2364</td>\n",
       "      <td>0.07678</td>\n",
       "    </tr>\n",
       "  </tbody>\n",
       "</table>\n",
       "<p>5 rows × 30 columns</p>\n",
       "</div>"
      ],
      "text/plain": [
       "      0      1       2       3        4        5       6        7       8   \\\n",
       "0  17.99  10.38  122.80  1001.0  0.11840  0.27760  0.3001  0.14710  0.2419   \n",
       "1  20.57  17.77  132.90  1326.0  0.08474  0.07864  0.0869  0.07017  0.1812   \n",
       "2  19.69  21.25  130.00  1203.0  0.10960  0.15990  0.1974  0.12790  0.2069   \n",
       "3  11.42  20.38   77.58   386.1  0.14250  0.28390  0.2414  0.10520  0.2597   \n",
       "4  20.29  14.34  135.10  1297.0  0.10030  0.13280  0.1980  0.10430  0.1809   \n",
       "\n",
       "        9   ...     20     21      22      23      24      25      26      27  \\\n",
       "0  0.07871  ...  25.38  17.33  184.60  2019.0  0.1622  0.6656  0.7119  0.2654   \n",
       "1  0.05667  ...  24.99  23.41  158.80  1956.0  0.1238  0.1866  0.2416  0.1860   \n",
       "2  0.05999  ...  23.57  25.53  152.50  1709.0  0.1444  0.4245  0.4504  0.2430   \n",
       "3  0.09744  ...  14.91  26.50   98.87   567.7  0.2098  0.8663  0.6869  0.2575   \n",
       "4  0.05883  ...  22.54  16.67  152.20  1575.0  0.1374  0.2050  0.4000  0.1625   \n",
       "\n",
       "       28       29  \n",
       "0  0.4601  0.11890  \n",
       "1  0.2750  0.08902  \n",
       "2  0.3613  0.08758  \n",
       "3  0.6638  0.17300  \n",
       "4  0.2364  0.07678  \n",
       "\n",
       "[5 rows x 30 columns]"
      ]
     },
     "execution_count": 10,
     "metadata": {},
     "output_type": "execute_result"
    }
   ],
   "source": [
    "breast_cancer_X, breast_cancer_y = load_breast_cancer(return_X_y=True)\n",
    "X = pd.DataFrame(breast_cancer_X)\n",
    "y = pd.Series(breast_cancer_y).map({0:1, 1:0})\n",
    "\n",
    "X.head()"
   ]
  },
  {
   "cell_type": "code",
   "execution_count": 12,
   "id": "daa52c5e",
   "metadata": {},
   "outputs": [
    {
     "data": {
      "text/plain": [
       "0    1\n",
       "1    1\n",
       "2    1\n",
       "3    1\n",
       "4    1\n",
       "dtype: int64"
      ]
     },
     "execution_count": 12,
     "metadata": {},
     "output_type": "execute_result"
    }
   ],
   "source": [
    "y.head()"
   ]
  },
  {
   "cell_type": "markdown",
   "id": "60263f0e",
   "metadata": {},
   "source": [
    "# Check the percentage of the class labels\n",
    "\n",
    "This step is important to understand if the dataset is balanced or not.\n",
    "\n",
    "If the data is imbalanced we need to handle the imbalanced dataset\n",
    "\n",
    "Step1 : Use value counts\n",
    "\n",
    "Step2 : Calculate the len\n",
    "\n",
    "Step3 : Calculate the %tage"
   ]
  },
  {
   "cell_type": "code",
   "execution_count": 13,
   "id": "d14ade46",
   "metadata": {},
   "outputs": [
    {
     "data": {
      "text/plain": [
       "0    357\n",
       "1    212\n",
       "dtype: int64"
      ]
     },
     "execution_count": 13,
     "metadata": {},
     "output_type": "execute_result"
    }
   ],
   "source": [
    "y.value_counts()"
   ]
  },
  {
   "cell_type": "code",
   "execution_count": 14,
   "id": "557cf774",
   "metadata": {},
   "outputs": [
    {
     "data": {
      "text/plain": [
       "569"
      ]
     },
     "execution_count": 14,
     "metadata": {},
     "output_type": "execute_result"
    }
   ],
   "source": [
    "len(y)"
   ]
  },
  {
   "cell_type": "code",
   "execution_count": 17,
   "id": "5c51e749",
   "metadata": {},
   "outputs": [
    {
     "name": "stdout",
     "output_type": "stream",
     "text": [
      "%age of benign tumor is  0.6274165202108963\n",
      "%age of malignant tumor is  0.37258347978910367\n"
     ]
    }
   ],
   "source": [
    "print('%age of benign tumor is ', (y.value_counts()/len(y))[0])\n",
    "print('%age of malignant tumor is ', (y.value_counts()/len(y))[1])"
   ]
  },
  {
   "cell_type": "markdown",
   "id": "e816b010",
   "metadata": {},
   "source": [
    "# Split the data into train and test dataset"
   ]
  },
  {
   "cell_type": "code",
   "execution_count": 19,
   "id": "0b833629",
   "metadata": {},
   "outputs": [],
   "source": [
    "X_train,X_test,y_train,y_test = train_test_split(X,y,test_size=0.3,random_state=42)"
   ]
  },
  {
   "cell_type": "markdown",
   "id": "29a90f3f",
   "metadata": {},
   "source": [
    "In this dataset we have the numbers only. so no need to perform any encoding"
   ]
  },
  {
   "cell_type": "markdown",
   "id": "e4f6357b",
   "metadata": {},
   "source": [
    "# Training the model"
   ]
  },
  {
   "cell_type": "code",
   "execution_count": 22,
   "id": "fd4116fb",
   "metadata": {},
   "outputs": [],
   "source": [
    "logit = LogisticRegression(penalty='l2',C=1.0,solver='liblinear',random_state=42,verbose= 1)"
   ]
  },
  {
   "cell_type": "code",
   "execution_count": 26,
   "id": "67f722d1",
   "metadata": {},
   "outputs": [],
   "source": [
    "#Here the model is just created but not trained."
   ]
  },
  {
   "cell_type": "code",
   "execution_count": 40,
   "id": "1ccff03f",
   "metadata": {},
   "outputs": [
    {
     "name": "stdout",
     "output_type": "stream",
     "text": [
      "[LibLinear][LibLinear][LibLinear][LibLinear][LibLinear]"
     ]
    }
   ],
   "source": [
    "#Creating Cross validation scheme\n",
    "kf = KFold(n_splits=5,shuffle=True,random_state=42)\n",
    "\n",
    "#Estimating the generalization error\n",
    "\n",
    "clf = cross_validate(\n",
    "    logit,\n",
    "    X_train,\n",
    "    y_train,\n",
    "    scoring=['f1','accuracy'], ##We can use any of the metrics\n",
    "    cv=kf,\n",
    "    return_train_score=True,\n",
    ")"
   ]
  },
  {
   "cell_type": "code",
   "execution_count": 44,
   "id": "ec55b21e",
   "metadata": {},
   "outputs": [
    {
     "data": {
      "text/html": [
       "<div>\n",
       "<style scoped>\n",
       "    .dataframe tbody tr th:only-of-type {\n",
       "        vertical-align: middle;\n",
       "    }\n",
       "\n",
       "    .dataframe tbody tr th {\n",
       "        vertical-align: top;\n",
       "    }\n",
       "\n",
       "    .dataframe thead th {\n",
       "        text-align: right;\n",
       "    }\n",
       "</style>\n",
       "<table border=\"1\" class=\"dataframe\">\n",
       "  <thead>\n",
       "    <tr style=\"text-align: right;\">\n",
       "      <th></th>\n",
       "      <th>fit_time</th>\n",
       "      <th>score_time</th>\n",
       "      <th>test_f1</th>\n",
       "      <th>train_f1</th>\n",
       "      <th>test_accuracy</th>\n",
       "      <th>train_accuracy</th>\n",
       "    </tr>\n",
       "  </thead>\n",
       "  <tbody>\n",
       "    <tr>\n",
       "      <th>0</th>\n",
       "      <td>0.024873</td>\n",
       "      <td>0.003003</td>\n",
       "      <td>0.918033</td>\n",
       "      <td>0.944206</td>\n",
       "      <td>0.937500</td>\n",
       "      <td>0.959119</td>\n",
       "    </tr>\n",
       "    <tr>\n",
       "      <th>1</th>\n",
       "      <td>0.021293</td>\n",
       "      <td>0.002020</td>\n",
       "      <td>0.877193</td>\n",
       "      <td>0.945607</td>\n",
       "      <td>0.912500</td>\n",
       "      <td>0.959119</td>\n",
       "    </tr>\n",
       "    <tr>\n",
       "      <th>2</th>\n",
       "      <td>0.014493</td>\n",
       "      <td>0.003798</td>\n",
       "      <td>0.962963</td>\n",
       "      <td>0.928870</td>\n",
       "      <td>0.975000</td>\n",
       "      <td>0.946541</td>\n",
       "    </tr>\n",
       "    <tr>\n",
       "      <th>3</th>\n",
       "      <td>0.011117</td>\n",
       "      <td>0.001013</td>\n",
       "      <td>0.880000</td>\n",
       "      <td>0.950820</td>\n",
       "      <td>0.924051</td>\n",
       "      <td>0.962382</td>\n",
       "    </tr>\n",
       "    <tr>\n",
       "      <th>4</th>\n",
       "      <td>0.016731</td>\n",
       "      <td>0.002058</td>\n",
       "      <td>1.000000</td>\n",
       "      <td>0.919643</td>\n",
       "      <td>1.000000</td>\n",
       "      <td>0.943574</td>\n",
       "    </tr>\n",
       "  </tbody>\n",
       "</table>\n",
       "</div>"
      ],
      "text/plain": [
       "   fit_time  score_time   test_f1  train_f1  test_accuracy  train_accuracy\n",
       "0  0.024873    0.003003  0.918033  0.944206       0.937500        0.959119\n",
       "1  0.021293    0.002020  0.877193  0.945607       0.912500        0.959119\n",
       "2  0.014493    0.003798  0.962963  0.928870       0.975000        0.946541\n",
       "3  0.011117    0.001013  0.880000  0.950820       0.924051        0.962382\n",
       "4  0.016731    0.002058  1.000000  0.919643       1.000000        0.943574"
      ]
     },
     "execution_count": 44,
     "metadata": {},
     "output_type": "execute_result"
    }
   ],
   "source": [
    "df_metric = pd.DataFrame(clf)\n",
    "df_metric"
   ]
  },
  {
   "cell_type": "markdown",
   "id": "88553b1a",
   "metadata": {},
   "source": [
    "Now if you observe, we just got different test scores and train scores,\n",
    "but 2 things we didn't get here : \n",
    "\n",
    "1. The absolute value of the metric.\n",
    "        - Mean of the metric\n",
    "        - Standard deviation of the metric\n",
    "        \n",
    "2. The correct value of the hyperparameters for which we shall get the optimal result.\n",
    "        - Searching techniques\n",
    "            -Mannual Search\n",
    "            -Grid Search\n",
    "            -Random Search"
   ]
  },
  {
   "cell_type": "code",
   "execution_count": 46,
   "id": "ed74c774",
   "metadata": {},
   "outputs": [
    {
     "data": {
      "text/plain": [
       "0.9498101265822786"
      ]
     },
     "execution_count": 46,
     "metadata": {},
     "output_type": "execute_result"
    }
   ],
   "source": [
    "np.mean(df_metric['test_accuracy'])"
   ]
  },
  {
   "cell_type": "code",
   "execution_count": 47,
   "id": "d1369584",
   "metadata": {},
   "outputs": [
    {
     "data": {
      "text/plain": [
       "0.03274351658794615"
      ]
     },
     "execution_count": 47,
     "metadata": {},
     "output_type": "execute_result"
    }
   ],
   "source": [
    "np.std(df_metric['test_accuracy'])"
   ]
  },
  {
   "cell_type": "markdown",
   "id": "547a9620",
   "metadata": {},
   "source": [
    "# Mannual Search\n",
    "\n",
    "In the mannual search technique we can just change the values of the hyperparameters mannually\n",
    "and check wheather the metric is improving or not.\n",
    "\n",
    "In this case we need to repeatedly calculate the table and track the improvement.\n",
    "\n",
    "Previously C=1. Now lets change the value of the C=0.01 and see the performance metric"
   ]
  },
  {
   "cell_type": "code",
   "execution_count": 50,
   "id": "5de3d44c",
   "metadata": {},
   "outputs": [
    {
     "name": "stdout",
     "output_type": "stream",
     "text": [
      "[LibLinear][LibLinear][LibLinear][LibLinear][LibLinear]"
     ]
    }
   ],
   "source": [
    "logit = LogisticRegression(penalty='l2',C=0.01,random_state=42,solver='liblinear',verbose=1)\n",
    "\n",
    "kf = KFold(n_splits=5,shuffle=True,random_state=42)\n",
    "\n",
    "clf = cross_validate(logit,X_train,y_train,scoring=['accuracy','f1'],cv=kf,return_train_score=True)\n",
    "\n",
    "metric = pd.DataFrame(clf)"
   ]
  },
  {
   "cell_type": "code",
   "execution_count": 52,
   "id": "49d31062",
   "metadata": {},
   "outputs": [
    {
     "data": {
      "text/plain": [
       "0.9121518987341772"
      ]
     },
     "execution_count": 52,
     "metadata": {},
     "output_type": "execute_result"
    }
   ],
   "source": [
    "np.mean(metric['test_accuracy'])"
   ]
  },
  {
   "cell_type": "code",
   "execution_count": 53,
   "id": "25107c25",
   "metadata": {},
   "outputs": [
    {
     "data": {
      "text/plain": [
       "0.020693250670147212"
      ]
     },
     "execution_count": 53,
     "metadata": {},
     "output_type": "execute_result"
    }
   ],
   "source": [
    "np.std(metric['test_accuracy'])"
   ]
  },
  {
   "cell_type": "markdown",
   "id": "cfe05f29",
   "metadata": {},
   "source": [
    "# Conclusion\n",
    "\n",
    "We can observe that after changing the value of C mannually from 1 to 0.01 the accuracy metric is reduced."
   ]
  },
  {
   "cell_type": "code",
   "execution_count": 54,
   "id": "e66a2267",
   "metadata": {},
   "outputs": [
    {
     "data": {
      "text/plain": [
       "'C:\\\\Users\\\\silri'"
      ]
     },
     "execution_count": 54,
     "metadata": {},
     "output_type": "execute_result"
    }
   ],
   "source": [
    "pwd"
   ]
  },
  {
   "cell_type": "code",
   "execution_count": null,
   "id": "e73fce1b",
   "metadata": {},
   "outputs": [],
   "source": []
  }
 ],
 "metadata": {
  "kernelspec": {
   "display_name": "Python 3 (ipykernel)",
   "language": "python",
   "name": "python3"
  },
  "language_info": {
   "codemirror_mode": {
    "name": "ipython",
    "version": 3
   },
   "file_extension": ".py",
   "mimetype": "text/x-python",
   "name": "python",
   "nbconvert_exporter": "python",
   "pygments_lexer": "ipython3",
   "version": "3.9.7"
  }
 },
 "nbformat": 4,
 "nbformat_minor": 5
}
